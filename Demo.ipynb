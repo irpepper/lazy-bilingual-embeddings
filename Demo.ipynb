{
 "cells": [
  {
   "cell_type": "code",
   "execution_count": 1,
   "metadata": {},
   "outputs": [
    {
     "name": "stdout",
     "output_type": "stream",
     "text": [
      "\n",
      "\n",
      "\n",
      "Loading Corpora\n",
      "-- 4.198770999908447 -- seconds\n",
      "\n",
      "Creating bilingual data set\n",
      "-- 20.91409420967102 -- seconds\n",
      "\n",
      "Loading gensim.Word2Vec\n",
      "-- 55.90849423408508 -- seconds\n",
      "\n",
      "Training Model\n",
      "-- 52.00492072105408 -- seconds\n",
      "\n"
     ]
    }
   ],
   "source": [
    "import gensim\n",
    "from pprint import pprint\n",
    "import random\n",
    "import argparse\n",
    "import time\n",
    "import os\n",
    "\n",
    "epochs = 5\n",
    "lang1 = \"data/Books.en-es.en\"\n",
    "lang2 = \"data/Books.en-es.es\"\n",
    "method = 2\n",
    "dims = 300\n",
    "window = 3\n",
    "\n",
    "#Load in corpora\n",
    "print(\"\\n\\n\\nLoading Corpora\")\n",
    "t1 = time.time()\n",
    "with open(lang1, encoding=\"utf-8\") as f:\n",
    "    lang1 = f.readlines()\n",
    "\n",
    "with open(lang2, encoding=\"utf-8\") as f:\n",
    "    lang2 = f.readlines()\n",
    "\n",
    "#Tokenize each corpus\n",
    "lang1 = [gensim.utils.simple_preprocess(line) for line in lang1]\n",
    "lang2 = [gensim.utils.simple_preprocess(line) for line in lang2]\n",
    "\n",
    "#Get all word types in each corpus\n",
    "lang1_words = list(set([word for sent in lang1 for word in sent]))\n",
    "lang2_words = list(set([word for sent in lang2 for word in sent]))\n",
    "print(\"-- {} -- seconds\\n\".format(time.time()-t1))\n",
    "\n",
    "\n",
    "#Method 2\n",
    "def mix2(l1,l2):\n",
    "    output = []\n",
    "    if len(l1) > len(l2):\n",
    "        new_line = []\n",
    "        for i in range(len(l1)):\n",
    "            if random.randint(0,1):\n",
    "                new_line.append(l1[i])\n",
    "            elif i < len(l2):\n",
    "                new_line.append(l2[i])\n",
    "            else:\n",
    "                new_line.append(l1[i])\n",
    "    else:\n",
    "        new_line = []\n",
    "        for i in range(len(l2)):\n",
    "            if random.randint(0,1):\n",
    "                new_line.append(l2[i])\n",
    "            elif i < len(l1):\n",
    "                new_line.append(l1[i])\n",
    "            else:\n",
    "                new_line.append(l2[i])\n",
    "    return new_line\n",
    "\n",
    "\n",
    "#Use one of the methods\n",
    "print(\"Creating bilingual data set\")\n",
    "t1 = time.time()\n",
    "if method == 1:\n",
    "    data = []\n",
    "    for i,j in zip(lang1,lang2):\n",
    "        data += mix1(i,j)\n",
    "\n",
    "elif method == 2:\n",
    "    data = []\n",
    "    for i,j in zip(lang1[2:],lang2[2:]):\n",
    "        i_n = len(i)\n",
    "        j_n = len(j)\n",
    "        if i_n > 4 and j_n > 4:\n",
    "            for k in range(int(max(i_n,j_n)**(0.5))*2):\n",
    "                data.append(mix2(i,j))\n",
    "print(\"-- {} -- seconds\\n\".format(time.time()-t1))\n",
    "\n",
    "#Load word2vec model\n",
    "print(\"Loading gensim.Word2Vec\")\n",
    "t1 = time.time()\n",
    "model = gensim.models.Word2Vec(\n",
    "        data,\n",
    "        size=dims,\n",
    "        window=window,\n",
    "        min_count=2,\n",
    "        workers=4)\n",
    "print(\"-- {} -- seconds\\n\".format(time.time()-t1))\n",
    "\n",
    "\n",
    "#Train the model\n",
    "print(\"Training Model\")\n",
    "t1 = time.time()\n",
    "model.train(data, total_examples=len(data), epochs=epochs)\n",
    "print(\"-- {} -- seconds\\n\".format(time.time()-t1))"
   ]
  },
  {
   "cell_type": "code",
   "execution_count": 13,
   "metadata": {},
   "outputs": [
    {
     "name": "stderr",
     "output_type": "stream",
     "text": [
      "C:\\Users\\jorda\\Anaconda3\\envs\\harvest\\lib\\site-packages\\ipykernel_launcher.py:1: DeprecationWarning: Call to deprecated `most_similar` (Method will be removed in 4.0.0, use self.wv.most_similar() instead).\n",
      "  \"\"\"Entry point for launching an IPython kernel.\n"
     ]
    },
    {
     "data": {
      "text/plain": [
       "[('ondulaban', 0.5498026013374329),\n",
       " ('cazamariposas', 0.47866594791412354),\n",
       " ('boulders', 0.46035659313201904),\n",
       " ('rojizo', 0.4365118145942688),\n",
       " ('ovalada', 0.424294650554657),\n",
       " ('mariposa', 0.4178538918495178),\n",
       " ('marrón', 0.41318005323410034),\n",
       " ('festoons', 0.40188270807266235),\n",
       " ('azulados', 0.40170085430145264),\n",
       " ('zarzas', 0.4010452628135681)]"
      ]
     },
     "execution_count": 13,
     "metadata": {},
     "output_type": "execute_result"
    }
   ],
   "source": [
    "model.most_similar(\"butterfly\")"
   ]
  },
  {
   "cell_type": "code",
   "execution_count": null,
   "metadata": {},
   "outputs": [],
   "source": []
  }
 ],
 "metadata": {
  "kernelspec": {
   "display_name": "harvest",
   "language": "python",
   "name": "harvest"
  },
  "language_info": {
   "codemirror_mode": {
    "name": "ipython",
    "version": 3
   },
   "file_extension": ".py",
   "mimetype": "text/x-python",
   "name": "python",
   "nbconvert_exporter": "python",
   "pygments_lexer": "ipython3",
   "version": "3.5.6"
  }
 },
 "nbformat": 4,
 "nbformat_minor": 2
}
